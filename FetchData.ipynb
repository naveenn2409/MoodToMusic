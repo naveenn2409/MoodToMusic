{
 "cells": [
  {
   "cell_type": "markdown",
   "id": "f2977616",
   "metadata": {},
   "source": [
    "# Fetch Top Songs"
   ]
  },
  {
   "cell_type": "code",
   "execution_count": 1,
   "id": "b9c0a005",
   "metadata": {},
   "outputs": [],
   "source": [
    "import spotipy\n",
    "from spotipy.oauth2 import SpotifyClientCredentials\n",
    "from spotipy.oauth2 import SpotifyOAuth\n",
    "import spotipy.util as util"
   ]
  },
  {
   "cell_type": "code",
   "execution_count": 114,
   "id": "be25baff",
   "metadata": {},
   "outputs": [],
   "source": [
    "client_id = 'fd79e4c442b84c2495101d0fccb10cb8'\n",
    "client_secret = '2b40e3b4ea8b4d33b8e531ad2cdb7e14'\n",
    "auth_manager = SpotifyClientCredentials(client_id=client_id, client_secret=client_secret)\n",
    "sp = spotipy.Spotify(auth_manager=auth_manager)"
   ]
  },
  {
   "cell_type": "code",
   "execution_count": 115,
   "id": "1c78e7a9",
   "metadata": {},
   "outputs": [],
   "source": [
    "token = util.prompt_for_user_token(scope='user-library-read', client_id=client_id, client_secret=client_secret, redirect_uri='http://localhost:8400/')"
   ]
  },
  {
   "cell_type": "code",
   "execution_count": 116,
   "id": "c2f321ed",
   "metadata": {},
   "outputs": [],
   "source": [
    "sp = spotipy.Spotify(auth=token)"
   ]
  },
  {
   "cell_type": "code",
   "execution_count": 117,
   "id": "410811db",
   "metadata": {},
   "outputs": [],
   "source": [
    "import pandas as pd\n",
    "df = pd.DataFrame(columns=['name', 'album', 'artist', 'id', 'popularity', 'length',\n",
    " 'danceability', 'acousticness', 'energy', 'instrumentalness',\n",
    "       'liveness', 'valence', 'loudness', 'speechiness', 'tempo', 'key',\n",
    "       'time_signature', 'mood'])"
   ]
  },
  {
   "cell_type": "code",
   "execution_count": 118,
   "id": "892d83e7",
   "metadata": {},
   "outputs": [
    {
     "data": {
      "text/plain": [
       "Index(['name', 'album', 'artist', 'id', 'popularity', 'length', 'danceability',\n",
       "       'acousticness', 'energy', 'instrumentalness', 'liveness', 'valence',\n",
       "       'loudness', 'speechiness', 'tempo', 'key', 'time_signature', 'mood'],\n",
       "      dtype='object')"
      ]
     },
     "execution_count": 118,
     "metadata": {},
     "output_type": "execute_result"
    }
   ],
   "source": [
    "df.columns"
   ]
  },
  {
   "cell_type": "code",
   "execution_count": 119,
   "id": "dc2b5d57",
   "metadata": {},
   "outputs": [
    {
     "data": {
      "text/plain": [
       "{'danceability': 0.652,\n",
       " 'energy': 0.698,\n",
       " 'key': 10,\n",
       " 'loudness': -4.667,\n",
       " 'mode': 0,\n",
       " 'speechiness': 0.042,\n",
       " 'acousticness': 0.00112,\n",
       " 'instrumentalness': 0.000115,\n",
       " 'liveness': 0.0886,\n",
       " 'valence': 0.47,\n",
       " 'tempo': 96.021,\n",
       " 'type': 'audio_features',\n",
       " 'id': '3E7dfMvvCLUddWissuqMwr',\n",
       " 'uri': 'spotify:track:3E7dfMvvCLUddWissuqMwr',\n",
       " 'track_href': 'https://api.spotify.com/v1/tracks/3E7dfMvvCLUddWissuqMwr',\n",
       " 'analysis_url': 'https://api.spotify.com/v1/audio-analysis/3E7dfMvvCLUddWissuqMwr',\n",
       " 'duration_ms': 202067,\n",
       " 'time_signature': 4}"
      ]
     },
     "execution_count": 119,
     "metadata": {},
     "output_type": "execute_result"
    }
   ],
   "source": [
    "playlist_link = \"https://open.spotify.com/playlist/2cMXEn09J6ZUqV5m5EQSyC\"\n",
    "playlist_URI = playlist_link.split(\"/\")[-1]\n",
    "x = sp.playlist_tracks(playlist_URI)[\"items\"][0]\n",
    "fea = sp.audio_features(x['track']['uri'])[0]\n",
    "fea"
   ]
  },
  {
   "cell_type": "code",
   "execution_count": 120,
   "id": "8841ae7e",
   "metadata": {},
   "outputs": [],
   "source": [
    "def get_songs(playlist_link,df):\n",
    "    playlist_URI = playlist_link.split(\"/\")[-1]\n",
    "    for item in sp.playlist_tracks(playlist_URI)[\"items\"]:\n",
    "        row = {\n",
    "        'name':item['track']['name'],\n",
    "        'album':item['track']['album']['name'],\n",
    "        'artist':item[\"track\"][\"artists\"][0][\"name\"],\n",
    "        'id':item['track']['id'],\n",
    "        'popularity':item['track']['popularity'],\n",
    "        'length':item['track']['duration_ms']\n",
    "        }\n",
    "        features = sp.audio_features(item['track']['uri'])[0]\n",
    "        for key in features:\n",
    "            if key in df.columns:\n",
    "                row[key] = features[key]\n",
    "        df = df.append(row,ignore_index=True)\n",
    "    return df"
   ]
  },
  {
   "cell_type": "code",
   "execution_count": 121,
   "id": "a5d1738c",
   "metadata": {},
   "outputs": [
    {
     "name": "stdout",
     "output_type": "stream",
     "text": [
      "Added playlist\n",
      "Added playlist\n",
      "Added playlist\n"
     ]
    }
   ],
   "source": [
    "links = ['https://open.spotify.com/playlist/6UeSakyzhiEt4NB3UAd6NQ',\n",
    "'https://open.spotify.com/playlist/37i9dQZEVXbMDoHDwVN2tF',\n",
    "'https://open.spotify.com/playlist/37i9dQZF1DWY4lFlS4Pnso']\n",
    "\n",
    "for link in links:\n",
    "    df = get_songs(link,df)\n",
    "    print(\"Added playlist\")"
   ]
  },
  {
   "cell_type": "code",
   "execution_count": 126,
   "id": "ea29b473",
   "metadata": {},
   "outputs": [],
   "source": [
    "#Remove duplicates\n",
    "df = df.drop_duplicates()"
   ]
  },
  {
   "cell_type": "code",
   "execution_count": 127,
   "id": "b8c16fc2",
   "metadata": {},
   "outputs": [
    {
     "data": {
      "text/plain": [
       "(174, 18)"
      ]
     },
     "execution_count": 127,
     "metadata": {},
     "output_type": "execute_result"
    }
   ],
   "source": [
    "df.shape"
   ]
  },
  {
   "cell_type": "code",
   "execution_count": 129,
   "id": "f625d53c",
   "metadata": {},
   "outputs": [],
   "source": [
    "df.to_csv(\"latest_songs.csv\")"
   ]
  },
  {
   "cell_type": "markdown",
   "id": "b7dbea77",
   "metadata": {},
   "source": [
    "# Quick Train"
   ]
  },
  {
   "cell_type": "code",
   "execution_count": 135,
   "id": "5ca82e25",
   "metadata": {},
   "outputs": [],
   "source": [
    "from xgboost import XGBClassifier\n",
    "from sklearn.ensemble import RandomForestClassifier\n",
    "from sklearn.ensemble import GradientBoostingClassifier\n",
    "from lightgbm import LGBMClassifier\n",
    "from sklearn.ensemble import VotingClassifier"
   ]
  },
  {
   "cell_type": "code",
   "execution_count": 151,
   "id": "9dbb7153",
   "metadata": {},
   "outputs": [],
   "source": [
    "import pickle\n",
    "import numpy as np"
   ]
  },
  {
   "cell_type": "code",
   "execution_count": 143,
   "id": "fdbc20e6",
   "metadata": {},
   "outputs": [],
   "source": [
    "traindf = pd.read_csv('./SpotifyData/data_moods.csv')\n",
    "X_train = traindf.loc[:, 'popularity':'time_signature']\n",
    "X_train['length'] = X_train['length']/max(X_train['length'])\n",
    "\n",
    "# Mapping class label to respected integer\n",
    "y_train = traindf['mood'].map({'Happy': 0, 'Sad': 1, 'Energetic': 2, 'Calm':3})\n",
    "target_names = ['Happy', 'Sad', 'Energetic', 'Calm']\n",
    "\n",
    "# # Splitting training data and testing data\n",
    "# X_train, X_test, y_train, y_test = train_test_split(X_train, y_train, test_size=0.2, random_state=1)\n",
    "\n",
    "vote_models = []\n",
    "vote_models.append(('Random Forest Classifier',RandomForestClassifier()))\n",
    "vote_models.append(('Gradient Boosting Classifier',GradientBoostingClassifier()))\n",
    "vote_models.append(('XGB Classifier', XGBClassifier()))\n",
    "\n",
    "model = VotingClassifier(estimators = vote_models, voting ='soft')\n",
    "\n",
    "model.fit(X_train,y_train)\n",
    "\n",
    "filename = 'music_model.sav'\n",
    "pickle.dump(model, open(filename, 'wb'))"
   ]
  },
  {
   "cell_type": "markdown",
   "id": "7b313231",
   "metadata": {},
   "source": [
    "# Predict"
   ]
  },
  {
   "cell_type": "code",
   "execution_count": 146,
   "id": "756aa026",
   "metadata": {},
   "outputs": [],
   "source": [
    "df = pd.read_csv('latest_songs.csv')"
   ]
  },
  {
   "cell_type": "code",
   "execution_count": 144,
   "id": "dc13056c",
   "metadata": {},
   "outputs": [],
   "source": [
    "model = pickle.load(open('music_model.sav', 'rb'))"
   ]
  },
  {
   "cell_type": "code",
   "execution_count": 152,
   "id": "80e380f5",
   "metadata": {
    "scrolled": true
   },
   "outputs": [
    {
     "data": {
      "text/plain": [
       "array(['Happy', 'Happy', 'Happy', 'Sad', 'Sad', 'Energetic', 'Happy',\n",
       "       'Happy', 'Happy', 'Energetic', 'Happy', 'Happy', 'Happy', 'Sad',\n",
       "       'Happy', 'Happy', 'Happy', 'Happy', 'Happy', 'Happy', 'Happy',\n",
       "       'Happy', 'Happy', 'Happy', 'Happy', 'Happy', 'Energetic', 'Happy',\n",
       "       'Happy', 'Happy', 'Happy', 'Happy', 'Energetic', 'Happy', 'Happy',\n",
       "       'Happy', 'Sad', 'Happy', 'Happy', 'Happy', 'Happy', 'Happy',\n",
       "       'Happy', 'Happy', 'Happy', 'Happy', 'Calm', 'Happy', 'Energetic',\n",
       "       'Happy', 'Happy', 'Happy', 'Happy', 'Happy', 'Sad', 'Happy',\n",
       "       'Happy', 'Happy', 'Happy', 'Happy', 'Happy', 'Happy', 'Happy',\n",
       "       'Happy', 'Sad', 'Happy', 'Sad', 'Sad', 'Happy', 'Happy', 'Happy',\n",
       "       'Happy', 'Happy', 'Happy', 'Happy', 'Happy', 'Happy', 'Happy',\n",
       "       'Happy', 'Happy', 'Happy', 'Happy', 'Happy', 'Happy', 'Happy',\n",
       "       'Energetic', 'Happy', 'Happy', 'Happy', 'Sad', 'Happy', 'Happy',\n",
       "       'Happy', 'Happy', 'Sad', 'Energetic', 'Happy', 'Happy', 'Happy',\n",
       "       'Happy', 'Sad', 'Happy', 'Happy', 'Happy', 'Happy', 'Happy',\n",
       "       'Happy', 'Happy', 'Happy', 'Happy', 'Happy', 'Happy', 'Happy',\n",
       "       'Happy', 'Happy', 'Happy', 'Happy', 'Happy', 'Happy', 'Happy',\n",
       "       'Happy', 'Happy', 'Sad', 'Happy', 'Energetic', 'Happy', 'Happy',\n",
       "       'Happy', 'Energetic', 'Happy', 'Happy', 'Happy', 'Happy', 'Happy',\n",
       "       'Happy', 'Happy', 'Happy', 'Happy', 'Happy', 'Happy', 'Happy',\n",
       "       'Happy', 'Happy', 'Happy', 'Happy', 'Happy', 'Happy', 'Happy',\n",
       "       'Energetic', 'Happy', 'Energetic', 'Happy', 'Happy', 'Happy',\n",
       "       'Happy', 'Happy', 'Happy', 'Happy', 'Happy', 'Happy', 'Sad',\n",
       "       'Happy', 'Sad', 'Happy', 'Sad', 'Energetic', 'Happy', 'Energetic',\n",
       "       'Sad', 'Happy', 'Happy', 'Happy', 'Happy', 'Energetic'],\n",
       "      dtype='<U9')"
      ]
     },
     "execution_count": 152,
     "metadata": {},
     "output_type": "execute_result"
    }
   ],
   "source": [
    "X = df.loc[:,'popularity':'time_signature']\n",
    "X['length'] = X['length']/max(X['length'])\n",
    "target_names = ['Happy', 'Sad', 'Energetic', 'Calm']\n",
    "\n",
    "y = model.predict(X)\n",
    "labels = {0:'Happy', 1:'Sad', 2:'Energetic', 3:'Calm'}\n",
    "y_pred = np.vectorize(labels.get)(y)"
   ]
  },
  {
   "cell_type": "code",
   "execution_count": 154,
   "id": "fab993c2",
   "metadata": {},
   "outputs": [],
   "source": [
    "df['mood'] = y_pred"
   ]
  },
  {
   "cell_type": "code",
   "execution_count": 157,
   "id": "9830d63e",
   "metadata": {},
   "outputs": [],
   "source": [
    "df.to_csv('latest_songs.csv')"
   ]
  },
  {
   "cell_type": "code",
   "execution_count": null,
   "id": "c680951f",
   "metadata": {},
   "outputs": [],
   "source": []
  }
 ],
 "metadata": {
  "kernelspec": {
   "display_name": "Python 3",
   "language": "python",
   "name": "python3"
  },
  "language_info": {
   "codemirror_mode": {
    "name": "ipython",
    "version": 3
   },
   "file_extension": ".py",
   "mimetype": "text/x-python",
   "name": "python",
   "nbconvert_exporter": "python",
   "pygments_lexer": "ipython3",
   "version": "3.8.8"
  }
 },
 "nbformat": 4,
 "nbformat_minor": 5
}
